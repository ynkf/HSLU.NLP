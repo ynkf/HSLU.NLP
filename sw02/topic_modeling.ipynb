{
 "cells": [
  {
   "cell_type": "markdown",
   "id": "53d81604-025d-4fe1-a130-6a978f5ba135",
   "metadata": {},
   "source": [
    "# Topic Modeling\n",
    "In this exercise, we will do topic modeling with gensim. Use the [topics and transformations tutorial](https://radimrehurek.com/gensim/auto_examples/core/run_topics_and_transformations.html) as a reference."
   ]
  },
  {
   "cell_type": "code",
   "execution_count": 1,
   "id": "e45876ae-0f77-4bf8-8da4-b18618005327",
   "metadata": {},
   "outputs": [],
   "source": [
    "import os\n",
    "from collections import defaultdict\n",
    "\n",
    "import gensim\n",
    "import nltk"
   ]
  },
  {
   "cell_type": "markdown",
   "id": "91e6efd1",
   "metadata": {},
   "source": [
    "For tokenizing words and stopword removal, download the NLTK punkt tokenizer and stopwords list."
   ]
  },
  {
   "cell_type": "code",
   "execution_count": 2,
   "id": "edf524f8",
   "metadata": {},
   "outputs": [
    {
     "name": "stderr",
     "output_type": "stream",
     "text": [
      "[nltk_data] Downloading package punkt to\n",
      "[nltk_data]     C:\\Users\\YaFr\\AppData\\Roaming\\nltk_data...\n",
      "[nltk_data]   Unzipping tokenizers\\punkt.zip.\n",
      "[nltk_data] Downloading package stopwords to\n",
      "[nltk_data]     C:\\Users\\YaFr\\AppData\\Roaming\\nltk_data...\n",
      "[nltk_data]   Unzipping corpora\\stopwords.zip.\n"
     ]
    },
    {
     "data": {
      "text/plain": [
       "True"
      ]
     },
     "execution_count": 2,
     "metadata": {},
     "output_type": "execute_result"
    }
   ],
   "source": [
    "nltk.download('punkt')\n",
    "nltk.download('stopwords')"
   ]
  },
  {
   "cell_type": "markdown",
   "id": "cee84f40-20bf-47da-b0b4-a0ff28f9b5cd",
   "metadata": {},
   "source": [
    "First, we load the [Lee Background Corpus](https://hekyll.services.adelaide.edu.au/dspace/bitstream/2440/28910/1/hdl_28910.pdf) included with gensim that contains 300 news articles of the Australian Broadcasting Corporation."
   ]
  },
  {
   "cell_type": "code",
   "execution_count": 3,
   "id": "24d72e97",
   "metadata": {},
   "outputs": [],
   "source": [
    "from gensim.test.utils import datapath\n",
    "train_file = datapath('lee_background.cor')\n",
    "articles_orig = open(train_file).read().splitlines()"
   ]
  },
  {
   "cell_type": "markdown",
   "id": "d4b2e56f",
   "metadata": {},
   "source": [
    "Preprocess the text by lowercasing, removing stopwords, stemming, and removing rare words."
   ]
  },
  {
   "cell_type": "code",
   "execution_count": 7,
   "id": "88a870af-9f6b-43ea-940f-558e9a21bb71",
   "metadata": {},
   "outputs": [],
   "source": [
    "# define stopword list\n",
    "stopwords = set(nltk.corpus.stopwords.words('english'))\n",
    "stopwords = stopwords | {'\\\"', '\\'', '\\'\\'', '`', '``', '\\'s'}\n",
    "\n",
    "# initialize stemmer\n",
    "stemmer = nltk.stem.PorterStemmer()\n",
    "\n",
    "def preprocess(article):\n",
    "    # tokenize\n",
    "    article = nltk.word_tokenize(article)  # TODO\n",
    "\n",
    "    # lowercase all words\n",
    "    article = [word.lower() for word in article]\n",
    "\n",
    "    # remove stopwords\n",
    "    article = [word for word in article if word not in stopwords]  # TODO\n",
    "\n",
    "    # optional: stem\n",
    "    # article = [stemmer.stem(word) for word in article]\n",
    "    return article\n",
    "\n",
    "articles = [preprocess(article) for article in articles_orig]\n",
    "\n",
    "# create the dictionary and corpus objects that gensim uses for topic modeling\n",
    "dictionary = gensim.corpora.Dictionary(articles)\n",
    "\n",
    "# remove words that occur in less than 2 documents, or more than 50% of documents\n",
    "dictionary.filter_extremes(no_below=2, no_above=0.5)\n",
    "temp = dictionary[0]  # load the dictionary by calling it once\n",
    "corpus_bow = [dictionary.doc2bow(article) for article in articles]"
   ]
  },
  {
   "cell_type": "markdown",
   "id": "9d5ae61a",
   "metadata": {},
   "source": [
    "\n",
    "Now we create a TF-IDF model and transform the corpus into TF-IDF vectors."
   ]
  },
  {
   "cell_type": "code",
   "execution_count": 8,
   "id": "fab13db5",
   "metadata": {},
   "outputs": [
    {
     "name": "stdout",
     "output_type": "stream",
     "text": [
      "[(0, 0.045163832296308125), (1, 0.049004990699027966), (2, 0.09398031720792203), (3, 0.06797874731615453), (4, 0.08637534553463992), (5, 0.10158528888120417), (6, 0.058872481173046734), (7, 0.045871696227162966), (8, 0.04660732651093343), (9, 0.03476708703034139), (10, 0.09174339245432593), (11, 0.06379342938648586), (12, 0.08097953226203827), (13, 0.08637534553463992), (14, 0.06576958891547403), (15, 0.05748249959948285), (16, 0.07679421433236962), (17, 0.09398031720792203), (18, 0.04197717742438698), (19, 0.06379342938648586), (20, 0.09398031720792203), (21, 0.07679421433236962), (22, 0.08097953226203827), (23, 0.058872481173046734), (24, 0.05497796237027076), (25, 0.05497796237027076), (26, 0.07337456058875615), (27, 0.05497796237027076), (28, 0.08637534553463992), (29, 0.058872481173046734), (30, 0.062005775644911734), (31, 0.08637534553463992), (32, 0.09398031720792203), (33, 0.04737299069698862), (34, 0.07048328454536662), (35, 0.09398031720792203), (36, 0.09398031720792203), (37, 0.07679421433236962), (38, 0.06379342938648586), (39, 0.09398031720792203), (40, 0.05276880396959025), (41, 0.3161468260741569), (42, 0.06576958891547403), (43, 0.06576958891547403), (44, 0.04197717742438698), (45, 0.1860173269347352), (46, 0.08637534553463992), (47, 0.09398031720792203), (48, 0.17275069106927984), (49, 0.15358842866473923), (50, 0.1973087667464221), (51, 0.19138028815945754), (52, 0.06379342938648586), (53, 0.18796063441584407), (54, 0.07679421433236962), (55, 0.05384087678041912), (56, 0.07679421433236962), (57, 0.07679421433236962), (58, 0.08637534553463992), (59, 0.04318767276731996), (60, 0.13595749463230905), (61, 0.07048328454536662), (62, 0.06797874731615453), (63, 0.04318767276731996), (64, 0.08637534553463992), (65, 0.04448171465359908), (66, 0.049877527926200725), (67, 0.07337456058875615), (68, 0.05175471008582299), (69, 0.029876861457627475), (70, 0.043823535964961836), (71, 0.07337456058875615), (72, 0.1663540992526395), (73, 0.048171245973727274), (74, 0.09398031720792203), (75, 0.062005775644911734), (76, 0.04274284161044218), (77, 0.07337456058875615), (78, 0.06037377564287238), (79, 0.18796063441584407), (80, 0.09398031720792203), (81, 0.06379342938648586), (82, 0.23038264299710884), (83, 0.05618845771320373), (84, 0.08097953226203827), (85, 0.06379342938648586), (86, 0.07048328454536662), (87, 0.05384087678041912), (88, 0.06797874731615453), (89, 0.14342796675805272), (90, 0.07679421433236962), (91, 0.10995592474054151), (92, 0.06379342938648586), (93, 0.03976801902370649), (94, 0.0360042057531442), (95, 0.06797874731615453), (96, 0.07679421433236962), (97, 0.058872481173046734), (98, 0.11930405707111948), (99, 0.07679421433236962), (100, 0.030502124955654616), (101, 0.1860173269347352), (102, 0.05618845771320373), (103, 0.058872481173046734), (104, 0.08097953226203827), (105, 0.17529414385984735), (106, 0.11237691542640746), (107, 0.045871696227162966), (108, 0.08097953226203827), (109, 0.06037377564287238), (110, 0.03398546693692743)]\n",
      "[(0, 1), (1, 1), (2, 1), (3, 1), (4, 1), (5, 2), (6, 1), (7, 1), (8, 1), (9, 1), (10, 2), (11, 1), (12, 1), (13, 1), (14, 1), (15, 1), (16, 1), (17, 1), (18, 1), (19, 1), (20, 1), (21, 1), (22, 1), (23, 1), (24, 1), (25, 1), (26, 1), (27, 1), (28, 1), (29, 1), (30, 1), (31, 1), (32, 1), (33, 1), (34, 1), (35, 1), (36, 1), (37, 1), (38, 1), (39, 1), (40, 1), (41, 7), (42, 1), (43, 1), (44, 1), (45, 3), (46, 1), (47, 1), (48, 2), (49, 2), (50, 3), (51, 3), (52, 1), (53, 2), (54, 1), (55, 1), (56, 1), (57, 1), (58, 1), (59, 1), (60, 2), (61, 1), (62, 1), (63, 1), (64, 1), (65, 1), (66, 1), (67, 1), (68, 1), (69, 1), (70, 1), (71, 1), (72, 8), (73, 1), (74, 1), (75, 1), (76, 2), (77, 1), (78, 1), (79, 2), (80, 1), (81, 1), (82, 3), (83, 1), (84, 1), (85, 1), (86, 1), (87, 1), (88, 1), (89, 5), (90, 1), (91, 2), (92, 1), (93, 1), (94, 1), (95, 1), (96, 1), (97, 1), (98, 3), (99, 1), (100, 1), (101, 3), (102, 1), (103, 1), (104, 1), (105, 4), (106, 2), (107, 1), (108, 1), (109, 1), (110, 1)]\n"
     ]
    }
   ],
   "source": [
    "model_tfidf = gensim.models.TfidfModel(corpus_bow) # step 1 -- initialize a model\n",
    "corpus_tfidf = model_tfidf[corpus_bow]\n",
    "print(corpus_tfidf[0])\n",
    "print(corpus_bow[0])"
   ]
  },
  {
   "cell_type": "markdown",
   "id": "d24df8cb",
   "metadata": {},
   "source": [
    "Now we train an [LDA model](https://radimrehurek.com/gensim/auto_examples/tutorials/run_lda.html) with 10 topics on the TF-IDF corpus. Save it to a variable `model_lda`."
   ]
  },
  {
   "cell_type": "code",
   "execution_count": 9,
   "id": "7ded6b2d",
   "metadata": {},
   "outputs": [],
   "source": [
    "model_lda = gensim.models.LdaModel(corpus_tfidf, id2word=dictionary, num_topics=10)"
   ]
  },
  {
   "cell_type": "markdown",
   "id": "91845654",
   "metadata": {},
   "source": [
    "Let's inspect the first 5 topics of our model."
   ]
  },
  {
   "cell_type": "code",
   "execution_count": 10,
   "id": "ca3a357e",
   "metadata": {},
   "outputs": [
    {
     "data": {
      "text/plain": [
       "[(4,\n",
       "  '0.002*\"company\" + 0.002*\"timor\" + 0.002*\"zimbabwe\" + 0.002*\"south\" + 0.002*\"fire\" + 0.002*\"union\" + 0.001*\"mr\" + 0.001*\"action\" + 0.001*\"commonwealth\" + 0.001*\"wales\"'),\n",
       " (8,\n",
       "  '0.002*\"indian\" + 0.002*\"detainees\" + 0.002*\"man\" + 0.001*\"government\" + 0.001*\"arafat\" + 0.001*\"india\" + 0.001*\"minister\" + 0.001*\"asked\" + 0.001*\"car\" + 0.001*\"qantas\"'),\n",
       " (9,\n",
       "  '0.002*\"palestinian\" + 0.002*\"israeli\" + 0.002*\"fire\" + 0.001*\"australian\" + 0.001*\"government\" + 0.001*\"australia\" + 0.001*\"india\" + 0.001*\"force\" + 0.001*\"income\" + 0.001*\"foreign\"'),\n",
       " (6,\n",
       "  '0.002*\"palestinian\" + 0.002*\"economy\" + 0.001*\"australian\" + 0.001*\"economic\" + 0.001*\"hewitt\" + 0.001*\"reid\" + 0.001*\"israeli\" + 0.001*\"mr\" + 0.001*\"lee\" + 0.001*\"know\"'),\n",
       " (3,\n",
       "  '0.002*\"australian\" + 0.002*\"afghanistan\" + 0.002*\"hicks\" + 0.002*\"palestinian\" + 0.001*\"test\" + 0.001*\"guilty\" + 0.001*\"rates\" + 0.001*\"mr\" + 0.001*\"confirmed\" + 0.001*\"world\"')]"
      ]
     },
     "execution_count": 10,
     "metadata": {},
     "output_type": "execute_result"
    }
   ],
   "source": [
    "model_lda.print_topics(5)"
   ]
  },
  {
   "cell_type": "markdown",
   "id": "138ce453",
   "metadata": {},
   "source": [
    "We see the 5 topics with the highest importance. For each topic, the 10 most important words are shown, together with their coefficient of \"alignment\" to the topic.\n",
    "\n",
    "## Document Similarity\n",
    "We now use our LDA model to compare the similarity of new documents (*queries*) to documents in our collection.\n",
    "\n",
    "First, create an index of the news articles in our corpus. Use the `MatrixSimilarity` transformation as described in gensim's [similarity queries tutorial](https://radimrehurek.com/gensim/auto_examples/core/run_similarity_queries.html)."
   ]
  },
  {
   "cell_type": "code",
   "execution_count": 11,
   "id": "4eb44cb8",
   "metadata": {},
   "outputs": [],
   "source": [
    "index = gensim.similarities.MatrixSimilarity(model_lda[corpus_tfidf])"
   ]
  },
  {
   "cell_type": "markdown",
   "id": "de7b2c1f",
   "metadata": {},
   "source": [
    "Now, write a function that takes a query string as input and returns the LDA representation for it. Make sure to apply the same preprocessing as we did to the documents."
   ]
  },
  {
   "cell_type": "code",
   "execution_count": 12,
   "id": "dabf9dfd",
   "metadata": {},
   "outputs": [],
   "source": [
    "def get_lda_vector(text):\n",
    "    text = preprocess(text)\n",
    "    bow = dictionary.doc2bow(text)\n",
    "    tfidf = model_tfidf[bow]\n",
    "    lda_vector = model_lda[tfidf]\n",
    "    return lda_vector\n",
    "\n",
    "lda_vector = get_lda_vector(\"A new bill sparked massive protests in Israel, as it would massively limit the powers of the judiciary.\")"
   ]
  },
  {
   "cell_type": "markdown",
   "id": "b77753be",
   "metadata": {},
   "source": [
    "Print the top 5 most similar documents, together with their similarities, using your index created above."
   ]
  },
  {
   "cell_type": "code",
   "execution_count": 13,
   "id": "7696f2f3",
   "metadata": {},
   "outputs": [
    {
     "name": "stdout",
     "output_type": "stream",
     "text": [
      "0.9803847 Israel launched massive air raids across the West Bank and Gaza Tuesday, piling pressure on Yasser Arafat with a rocket strike on  a police post next to his offices, after Prime Minister Ariel Sharon branded his administration a \"sponsor of terrorism\". Israeli F-16 warplanes launched a series of strikes on Gaza City, while Apache helicopters fired rockets on Palestinian security offices in Khan Yunis in the southern Gaza Strip and on the West Bank towns of Salfit and Tulkarem. They also fired missiles on a security post just metres from Mr Arafat's offices in Ramallah, but the Palestinian leader, who was in his office at the time, was unhurt. But two policemen were slightly wounded, officials said. Israeli army spokesman Brigadier General Ron Kitrey said Mr Arafat was not targeted. Two people were killed in the Gaza strikes and around 120 injured, half of them schoolboys, Palestinian hospital officials said. The attacks came as Israel's Foreign Minister Shimon Peres said he did not believe Israeli forces would take direct action against the Palestinian  leader. The strikes also came a day after Mr Sharon, furious that Mr Arafat had not stopped hardline Islamic groups, who killed two dozen Israelis in devastating suicide attacks at the weekend, ordered his forces to blast symbols of Mr Arafat's  power. Gunships destroyed Mr Arafat's three helicopters in Gaza City, while bulldozers ploughed up the runway at Gaza international airport used by Mr Arafat for his frequent travels abroad. Palestinian officials called Mr Sharon's campaign an attempt to topple Mr Arafat and destroy his self-rule Palestinian Authority. Mr Arafat told CNN television that Mr Sharon was trying to torpedo his own crackdown on terrorism with the airstrikes. \"He doesn't want me to succeed, and for this he is escalating his military activities against our towns, our cities, our establishments,\" the Palestinian leader said. French Foreign Minister Hubert Vedrine accused Israel of conducting a deliberate policy aimed at eliminating Mr Arafat. \"Arafat has been weakened by the harassment of the Israeli army ... and as a result people are using his weakness as an argument to say that since he can not re-establish order in his own camp, he should in some way be eliminated.\" However, Britain's Prime Minister Tony Blair and US President George W Bush expressed \"sympathy\" with Israel and called on all sides \"to do anything they can to stabilise the situation\". Mr Sharon's hard words and air strikes opened major divisions in his cross-party government, with left-wing Mr Peres denouncing what he called a bid during Monday's emergency cabinet meeting to cause \"the downfall of the Palestinian Authority\". The region had been braced for a huge Israeli retaliation after three Palestinian suicide bombers from the hardline Islamic movement Hamas killed 25 people on Saturday and Sunday in the suicide attacks in Jerusalem and Haifa. Mr Sharon made a national address after blasting Gaza City and Jenin in the West Bank on Monday, accusing Mr Arafat of having \"chosen the path of terrorism\" and  being \"the greatest obstacle to peace and stability in the Middle East\". Mr Peres said the move by Mr Sharon's dominant right-wingers \"in effect means Israeli policy is based purely on force with no political hope\". Public radio said Mr Peres had called all the ministers from his Labour Party for a special meeting Wednesday to discuss the fallout of the strikes and Mr Sharon's accusation that Mr Arafat was \"responsible for everything that has happened here\". Chief Palestinian negotiator Saeb Erakat, speaking after Mr Sharon's speech Monday evening, said the words amounted to a \"declaration of war\". He called on the United States and Europe to rein in Mr Sharon and dispatch international observers to oversee the spiralling conflict. \n",
      "0.94585145 Turning grief into defiance, Americans have paused in remembrance, three months after the deadly September 11 attacks, as a resolute President George W Bush forecast certain victory in his war on terrorism. At 8:46am New York time (12:46am AEDT), the exact moment when a hijacked airliner steered on a suicide mission sliced into one of the twin towers of the World Trade Centre, ceremonies in Washington, New York and around the world honoured some 3,300 people killed on an unprecedented day of horror. \"Today, the wrongs are being righted, justice is being done,\" Mr Bush said. \"We still have far to go, and many dangers still lie ahead, yet there can be no doubt how this conflict will end. In New York, firefighters, police officers and community leaders assembled in the wreckage-strewn crater where the World Trade Centre stood, until its signature towers were levelled on the bright sunny morning of September 11. Under grey skies, a lone tenor sung Let There Be Peace on Earth before a priest, a rabbi and an imam addressed a solemn crowd, watched by New York mayor Rudy Giuliani, who shepherded his city through September's tragedy. Bagpipers performed a haunting rendition of Amazing Grace as cranes and the heavy machinery of construction workers excavating the site stood idle. At the Pentagon, the target of another hijacked airliner, a US flag was unfurled in front of a gaping hole in the building, where reconstruction is already under way. A lone Christmas tree, daubed with red lights, was fixed to the roof, metres from where the plane hit. Defence Secretary Donald Rumsfeld vowed never to forget the 184 victims who died at the Pentagon, the thousands more killed in New York and on those on a hijacked plane that crashed in rural Pennsylvania, apparently after the intervention of passengers. \"In the skies over Pennsylvania they showed those who believed that Americans would not fight back that they were ready to roll,\" Mr Rumsfeld said. The first person has been charged over the terrorist attacks in the United States three months ago. Zaccarias Moussaoui was charged in connection with the September 11 terrorist attacks as a result of the wide-ranging federal probe of the attacks, United States Attorney-General John Ashcroft said. Moussaoui, 33, a French national of Moroccan origin, faces six counts in connection with the terrorists attacks against the World Trade Centre in New York and the Pentagon outside Washington that left more than 3,000 people dead, Mr Ashcroft told a press conference. Four of those counts carry the death penalty. The indictment also cites a list of unindicted co-conspirators headed by Osama bin Laden, head of the Al Qaeda network, and Ayman al-Zawahiri, head of the Egyptian Islamic Jihad, as unindicted co-conspirators. The list of co-conspirators also includes the 19 hijackers who commandeered the four jets that were used as aerial targets on September 11, as well as two men who sent funds to the alleged terrorists. \n",
      "0.93550336 Geoff Huegill has continued his record-breaking ways at the World Cup short course swimming in Melbourne, bettering the Australian record in the 100 metres butterfly. Huegill beat fellow Australian Michael Klim, backing up after last night setting a world record in the 50 metres butterfly. \n",
      "0.9348412 New laws requiring all packaged food products containing genetically modified (GM) crops to be labelled, come into effect today. But the association representing food and grocery companies says consumers will have to look hard to find any on the shelves. Head of the Australian Food and Grocery Council, Mitch Hooke, says since the laws were first proposed companies have been cutting genetically modified ingredients out of their products. \"A lot of our companies have sidestepped the products of this technology at this stage to avoid any kind of risk in the market that their brands and their products will be brought into disrepute or that consumers will sidestep their products. \"There is not a real and tangible benefit in the technology's products for consumers at this stage,\" Mr Hooke said. \n",
      "0.9332765 The Federal Agriculture Minister, Warren Truss, says he has not been able to win any changes to the farm bill being debated by the United States Congress. Mr Truss has led a delegation of Australian farmers to Washington lobbying for some of the Government subsidies to farmers to be removed. He says he has not achieved any changes to the amount of Government protection for US farmers. Mr Truss says that will mean Australian farmers will suffer. \"We're especially concerned at the clear intent of the farm lobby to seek to entrench a mentality of farm subsidies in the USA. \"It is obvious that the US, which was once proudly boasted to be the most efficient farmers in the world, have now degenerated to a situation where US farmers are dependent on the taxpayers for around half their income,\" Mr Truss said. \n"
     ]
    }
   ],
   "source": [
    "document_similarities = index[lda_vector]\n",
    "for doc_idx, doc_similarity in sorted(enumerate(document_similarities), key=lambda x: x[1], reverse=True)[:5]:\n",
    "    print(doc_similarity, articles_orig[doc_idx])"
   ]
  },
  {
   "cell_type": "markdown",
   "id": "56e05dba",
   "metadata": {},
   "source": [
    "Run your code again, now training an LDA model with 100 topics. Do you see a qualitative difference in the top-5 most similar documents?"
   ]
  }
 ],
 "metadata": {
  "kernelspec": {
   "display_name": ".venv",
   "language": "python",
   "name": "python3"
  },
  "language_info": {
   "codemirror_mode": {
    "name": "ipython",
    "version": 3
   },
   "file_extension": ".py",
   "mimetype": "text/x-python",
   "name": "python",
   "nbconvert_exporter": "python",
   "pygments_lexer": "ipython3",
   "version": "3.9.13"
  }
 },
 "nbformat": 4,
 "nbformat_minor": 5
}
